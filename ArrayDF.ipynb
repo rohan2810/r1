{
 "cells": [
  {
   "cell_type": "code",
   "execution_count": 1,
   "metadata": {},
   "outputs": [
    {
     "name": "stdout",
     "output_type": "stream",
     "text": [
      "  Account         Group\n",
      "0      A1      [g1, g2]\n",
      "1      A2      [g3, g4]\n",
      "2      A3  [g1, g2, g3]\n"
     ]
    }
   ],
   "source": [
    "import pandas as pd\n",
    "import numpy as np\n",
    "\n",
    "Accounts_Group = pd.DataFrame({'Account': ['A1','A2','A3']})\n",
    "groups = np.array([['g1','g2'],['g3','g4'],['g1','g2','g3']])\n",
    "Accounts_Group[\"Group\"] = groups.tolist()\n",
    "print(Accounts_Group)"
   ]
  },
  {
   "cell_type": "code",
   "execution_count": 2,
   "metadata": {},
   "outputs": [
    {
     "name": "stdout",
     "output_type": "stream",
     "text": [
      "  ID Key\n",
      "0  1  g1\n",
      "1  2  g2\n",
      "2  3  g3\n",
      "3  4  g4\n",
      "4  5  g5\n"
     ]
    }
   ],
   "source": [
    "key_values = pd.DataFrame({'ID': ['1','2','3','4','5'],'Key': ['g1','g2','g3','g4','g5']})\n",
    "print(key_values)"
   ]
  },
  {
   "cell_type": "code",
   "execution_count": 3,
   "metadata": {},
   "outputs": [
    {
     "name": "stdout",
     "output_type": "stream",
     "text": [
      "Key\n",
      "g1    1\n",
      "g2    2\n",
      "g3    3\n",
      "g4    4\n",
      "g5    5\n",
      "Name: ID, dtype: object\n"
     ]
    }
   ],
   "source": [
    "# sets the values of keys\n",
    "keys = key_values.set_index('Key')['ID']\n",
    "print(keys)"
   ]
  },
  {
   "cell_type": "code",
   "execution_count": 4,
   "metadata": {},
   "outputs": [
    {
     "name": "stdout",
     "output_type": "stream",
     "text": [
      "  Account Group\n",
      "0      A1    g1\n",
      "0      A1    g2\n",
      "1      A2    g3\n",
      "1      A2    g4\n",
      "2      A3    g1\n",
      "2      A3    g2\n",
      "2      A3    g3\n"
     ]
    }
   ],
   "source": [
    "# Explode or Expand the groups accociated with a particular account.\n",
    "ag = Accounts_Group.explode('Group')\n",
    "print(ag)"
   ]
  },
  {
   "cell_type": "code",
   "execution_count": 5,
   "metadata": {},
   "outputs": [
    {
     "name": "stdout",
     "output_type": "stream",
     "text": [
      "0       [1, 2]\n",
      "1       [3, 4]\n",
      "2    [1, 2, 3]\n",
      "Name: Group, dtype: object\n"
     ]
    }
   ],
   "source": [
    "# Maps the values of Group with the values of keys from the keys table\n",
    "# Then using groupby and agg to assign keys to their corresponding Accounts.\n",
    "updated = ag['Group'].map(keys).groupby(level=0).agg(list)\n",
    "print(updated)"
   ]
  },
  {
   "cell_type": "code",
   "execution_count": 6,
   "metadata": {},
   "outputs": [
    {
     "name": "stdout",
     "output_type": "stream",
     "text": [
      "  Account      Group\n",
      "0      A1     [1, 2]\n",
      "1      A2     [3, 4]\n",
      "2      A3  [1, 2, 3]\n"
     ]
    }
   ],
   "source": [
    "# Assigning the values from the 'updated' table to the initial Accounts_Group dataframe.\n",
    "output = Accounts_Group.assign(Group=updated)\n",
    "print(output)"
   ]
  },
  {
   "cell_type": "code",
   "execution_count": null,
   "metadata": {},
   "outputs": [],
   "source": []
  }
 ],
 "metadata": {
  "kernelspec": {
   "display_name": "Python 3",
   "language": "python",
   "name": "python3"
  },
  "language_info": {
   "codemirror_mode": {
    "name": "ipython",
    "version": 3
   },
   "file_extension": ".py",
   "mimetype": "text/x-python",
   "name": "python",
   "nbconvert_exporter": "python",
   "pygments_lexer": "ipython3",
   "version": "3.7.3"
  }
 },
 "nbformat": 4,
 "nbformat_minor": 2
}
